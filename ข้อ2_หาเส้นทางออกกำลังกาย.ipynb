{
 "cells": [
  {
   "cell_type": "code",
   "execution_count": 1,
   "id": "7c2712d3",
   "metadata": {},
   "outputs": [
    {
     "name": "stdout",
     "output_type": "stream",
     "text": [
      "Distance : 5\n",
      "Start Point : A\n",
      "End Point : C\n",
      "-------------------\n",
      " แนะนำทางเริ่มจากจุด : A  ไป  ['C']\n",
      " ระยะทาง : 5 km\n"
     ]
    }
   ],
   "source": [
    "import numpy as np\n",
    "from numpy import random\n",
    "\n",
    "def SearchPoint(s_point):\n",
    "    for i in range(len(point_name)):\n",
    "        if s_point == point_name[i]:\n",
    "            return i\n",
    "\n",
    "def Random(maps, s_point, t, num):\n",
    "    ran = 0\n",
    "    for i in maps[s_point]:\n",
    "        t = t + 1\n",
    "        if i != 0 :\n",
    "            num.append(t)\n",
    "    ran = num[random.randint(0, len(num))]\n",
    "    return ran\n",
    "\n",
    "def checkpoint(point_name, maps, distance, s_point, e_point, result): \n",
    "    sum = 0\n",
    "    sum_dis = []\n",
    "    Set = []\n",
    "    for _ in range(10000): \n",
    "        S = []\n",
    "        I = s_point\n",
    "        i = 0\n",
    "        while e_point != I:\n",
    "            i = Random(maps,I,-1,[])\n",
    "            sum = sum + maps[I,i]\n",
    "            S.append(point_name[i])\n",
    "            I = i\n",
    "        result.append(sum)\n",
    "        Set.append(S)\n",
    "        sum = 0\n",
    "        I = s_point\n",
    "    for i in result: \n",
    "        if i > int(distance):\n",
    "            sum_dis.append(i - int(distance))\n",
    "        else:\n",
    "            sum_dis.append(int(distance) - i)\n",
    "\n",
    "    for i in range(len(sum_dis)): \n",
    "        if min(sum_dis) == sum_dis[i]:\n",
    "                print(\" แนะนำทางเริ่มจากจุด :\",point_name[s_point],\" ไป \",Set[i])\n",
    "                print(\" ระยะทาง :\",result[i],'km')\n",
    "                break\n",
    "    \n",
    "\n",
    "point_name = [\"A\", \"B\", \"C\", \"D\", \"E\"]\n",
    "maps = np.asarray([\n",
    "    [0, 2, 5, 8, 0],\n",
    "    [2, 0, 0, 3, 4],\n",
    "    [5, 0, 0, 4, 3],\n",
    "    [8, 3, 4, 0, 2],\n",
    "    [0, 4, 3, 2, 0],\n",
    "])\n",
    " \n",
    "distance = input(\"Distance : \")\n",
    "s_point = SearchPoint(input(\"Start Point : \"))\n",
    "e_point = SearchPoint(input(\"End Point : \"))\n",
    "sum = 0\n",
    "print(\"-------------------\")\n",
    "checkpoint(point_name, maps, distance, s_point, e_point, [])\n"
   ]
  },
  {
   "cell_type": "code",
   "execution_count": null,
   "id": "ec33e00a",
   "metadata": {},
   "outputs": [],
   "source": []
  }
 ],
 "metadata": {
  "kernelspec": {
   "display_name": "Python 3 (ipykernel)",
   "language": "python",
   "name": "python3"
  },
  "language_info": {
   "codemirror_mode": {
    "name": "ipython",
    "version": 3
   },
   "file_extension": ".py",
   "mimetype": "text/x-python",
   "name": "python",
   "nbconvert_exporter": "python",
   "pygments_lexer": "ipython3",
   "version": "3.8.12"
  }
 },
 "nbformat": 4,
 "nbformat_minor": 5
}
